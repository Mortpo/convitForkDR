{
 "cells": [
  {
   "cell_type": "code",
   "execution_count": 28,
   "id": "ac7cc732-62ce-423a-adca-2cacff534924",
   "metadata": {},
   "outputs": [],
   "source": [
    "import pandas as pd\n",
    "import matplotlib.pyplot as plt\n",
    "import seaborn as sns\n",
    "import torch\n",
    "import torchvision\n",
    "from torchvision.io import read_image\n",
    "from tqdm.notebook import tqdm\n",
    "import os\n",
    "from joblib import Parallel, delayed\n",
    "from utilis import readimagesize\n",
    "%matplotlib inline"
   ]
  },
  {
   "cell_type": "code",
   "execution_count": 29,
   "id": "5d2bfa45-be36-4673-8a00-0a09b33c5c5c",
   "metadata": {},
   "outputs": [],
   "source": [
    "class Dataset:\n",
    "    def __init__(self, pathDataset, labelFile,trainFolder,testFolder,formatImg):\n",
    "        self.pathDataset = pathDataset\n",
    "        self.pathLabel = os.path.join(pathDataset,labelFile)\n",
    "        self.pathTrain = os.path.join(pathDataset,trainFolder)\n",
    "        self.pathTest = os.path.join(pathDataset,testFolder)\n",
    "        self.formatImg = formatImg"
   ]
  },
  {
   "cell_type": "code",
   "execution_count": 30,
   "id": "7f108511-6cbb-47ee-8b0f-15502eeb0e19",
   "metadata": {},
   "outputs": [],
   "source": [
    "#dataset = Dataset(\"/mnt/e/DataSet/eyepacs_preprocess/\",\"trainLabels.csv\",\"train\",\"\",\"jpeg\")\n",
    "dataset = Dataset(\"/mnt/f/DataSet/DRDetectionKaggle/\",\"trainLabels.csv\",\"train\",\"test\",\"jpeg\")\n",
    "#dataset = Dataset(\"/mnt/e/DataSet/Messidor2/\",\"messidor_dataEdited.csv\",\"IMAGES\",\"test\",\"png\")"
   ]
  },
  {
   "cell_type": "code",
   "execution_count": 31,
   "id": "b71ad01d-f77d-45a1-85d3-8f86893bda4d",
   "metadata": {},
   "outputs": [
    {
     "name": "stdout",
     "output_type": "stream",
     "text": [
      "image    88702\n",
      "level    88702\n",
      "Usage    53576\n",
      "dtype: int64Line loaded\n"
     ]
    }
   ],
   "source": [
    "datasetlabel = pd.read_csv(dataset.pathLabel)\n",
    "\n",
    "datasetlabel = datasetlabel.append( pd.read_csv(\"/mnt/f/DataSet/DRDetectionKaggle/retinopathy_solution.csv\"))\n",
    "print(str(datasetlabel.count())+\"Line loaded\")\n"
   ]
  },
  {
   "cell_type": "code",
   "execution_count": 32,
   "id": "03b0bd7c-8bd8-44e1-a07a-b9e800199650",
   "metadata": {},
   "outputs": [
    {
     "data": {
      "text/html": [
       "<div>\n",
       "<style scoped>\n",
       "    .dataframe tbody tr th:only-of-type {\n",
       "        vertical-align: middle;\n",
       "    }\n",
       "\n",
       "    .dataframe tbody tr th {\n",
       "        vertical-align: top;\n",
       "    }\n",
       "\n",
       "    .dataframe thead th {\n",
       "        text-align: right;\n",
       "    }\n",
       "</style>\n",
       "<table border=\"1\" class=\"dataframe\">\n",
       "  <thead>\n",
       "    <tr style=\"text-align: right;\">\n",
       "      <th></th>\n",
       "      <th>image</th>\n",
       "      <th>level</th>\n",
       "      <th>Usage</th>\n",
       "    </tr>\n",
       "  </thead>\n",
       "  <tbody>\n",
       "    <tr>\n",
       "      <th>53571</th>\n",
       "      <td>44346_right</td>\n",
       "      <td>0</td>\n",
       "      <td>Private</td>\n",
       "    </tr>\n",
       "    <tr>\n",
       "      <th>53572</th>\n",
       "      <td>44350_left</td>\n",
       "      <td>0</td>\n",
       "      <td>Private</td>\n",
       "    </tr>\n",
       "    <tr>\n",
       "      <th>53573</th>\n",
       "      <td>44350_right</td>\n",
       "      <td>0</td>\n",
       "      <td>Private</td>\n",
       "    </tr>\n",
       "    <tr>\n",
       "      <th>53574</th>\n",
       "      <td>44351_left</td>\n",
       "      <td>0</td>\n",
       "      <td>Public</td>\n",
       "    </tr>\n",
       "    <tr>\n",
       "      <th>53575</th>\n",
       "      <td>44351_right</td>\n",
       "      <td>0</td>\n",
       "      <td>Public</td>\n",
       "    </tr>\n",
       "  </tbody>\n",
       "</table>\n",
       "</div>"
      ],
      "text/plain": [
       "             image  level    Usage\n",
       "53571  44346_right      0  Private\n",
       "53572   44350_left      0  Private\n",
       "53573  44350_right      0  Private\n",
       "53574   44351_left      0   Public\n",
       "53575  44351_right      0   Public"
      ]
     },
     "execution_count": 32,
     "metadata": {},
     "output_type": "execute_result"
    }
   ],
   "source": [
    "datasetlabel.head()\n",
    "datasetlabel.tail()"
   ]
  },
  {
   "cell_type": "code",
   "execution_count": 36,
   "id": "9dac160b-03e5-47b1-85b5-6e3091c5c80b",
   "metadata": {},
   "outputs": [
    {
     "data": {
      "image/png": "[encoded data removed]",
      "text/plain": [
       "<Figure size 432x288 with 1 Axes>"
      ]
     },
     "metadata": {
      "needs_background": "light"
     },
     "output_type": "display_data"
    },
    {
     "data": {
      "text/plain": [
       "<Figure size 2400x2400 with 0 Axes>"
      ]
     },
     "metadata": {},
     "output_type": "display_data"
    }
   ],
   "source": [
    "fig = plt.figure()\n",
    "plt.hist(datasetlabel[\"level\"],align=\"left\",bins= [0,1, 2, 3, 4,5],rwidth=.4)\n",
    "plt.ylabel('Count')\n",
    "plt.xlabel('Level')\n",
    "plt.figure(figsize=(30, 30),dpi=80)\n",
    "fig.savefig(\"HistoEyepacs.png\",dpi=300,bbox_inches='tight')\n",
    "plt.show()"
   ]
  },
  {
   "cell_type": "code",
   "execution_count": 84,
   "id": "6dbf70b3-83a9-4b08-8a18-311a0110969a",
   "metadata": {},
   "outputs": [],
   "source": [
    "def readImageSize(formatimg,data,i):\n",
    "    imgname = data[i]\n",
    "    if formatimg == \"jpeg\":\n",
    "        \n",
    "        if os.path.exists( os.path.join(dataset.pathDataset,dataset.pathTrain,imgname+\".jpeg\")):\n",
    "            image = readimagesize.get_image_size(os.path.join(dataset.pathDataset,dataset.pathTrain,imgname+\".jpeg\"))\n",
    "        else:\n",
    "            image = readimagesize.get_image_size(os.path.join(dataset.pathDataset,dataset.pathTest,imgname+\".jpeg\"))\n",
    "        return image#.size()[1:]\n",
    "    else:\n",
    "        if os.path.exists(os.path.join(dataset.pathDataset,dataset.pathTrain,imgname)):\n",
    "            image = read_image(os.path.join(dataset.pathDataset,dataset.pathTrain,imgname))\n",
    "        else:\n",
    "            image = read_image(os.path.join(dataset.pathDataset,dataset.pathTest,imgname))\n",
    "        return image.size()[1:]"
   ]
  },
  {
   "cell_type": "code",
   "execution_count": 85,
   "id": "a0166049-e0b3-40ff-af00-7d4b3ab1b5d7",
   "metadata": {},
   "outputs": [
    {
     "data": {
      "application/vnd.jupyter.widget-view+json": {
       "model_id": "c96f1fd6a39e4962ba139313fc8cca2c",
       "version_major": 2,
       "version_minor": 0
      },
      "text/plain": [
       "  0%|          | 0/88702 [00:00<?, ?it/s]"
      ]
     },
     "metadata": {},
     "output_type": "display_data"
    },
    {
     "data": {
      "text/plain": [
       "'for imgs in tqdm(datasetlabel[\"image\"]):\\n    image = read_image(os.path.join(dataset.pathDataset,dataset.pathTrain,imgs+\".jpeg\"))\\n    imagesize.append(image.size()[1:])'"
      ]
     },
     "execution_count": 85,
     "metadata": {},
     "output_type": "execute_result"
    }
   ],
   "source": [
    "imagesize=[]\n",
    "data = datasetlabel[\"image\"].unique()\n",
    "imagesize = Parallel(n_jobs=16)(delayed(readImageSize)(dataset.formatImg,data,i) for i in tqdm(range(data.size)))\n",
    "\"\"\"for imgs in tqdm(datasetlabel[\"image\"]):\n",
    "    image = read_image(os.path.join(dataset.pathDataset,dataset.pathTrain,imgs+\".jpeg\"))\n",
    "    imagesize.append(image.size()[1:])\"\"\"\n",
    "  "
   ]
  },
  {
   "cell_type": "code",
   "execution_count": 18,
   "id": "b34b4680-065d-42e4-9617-dc18faa60c1b",
   "metadata": {},
   "outputs": [
    {
     "data": {
      "image/png": "[encoded data removed]",
      "text/plain": [
       "<Figure size 432x288 with 1 Axes>"
      ]
     },
     "metadata": {
      "needs_background": "light"
     },
     "output_type": "display_data"
    }
   ],
   "source": [
    "plt.scatter(x=[ x[0] for x in imagesize],y=[ x[1] for x in imagesize],s=1)\n",
    "\n",
    "plt.show() "
   ]
  },
  {
   "cell_type": "code",
   "execution_count": 114,
   "id": "e8c4b5e7-3ae5-48ab-9c2a-9f0b7f48dcb8",
   "metadata": {},
   "outputs": [
    {
     "data": {
      "text/plain": [
       "Text(63.0, 0.5, 'Image height')"
      ]
     },
     "execution_count": 114,
     "metadata": {},
     "output_type": "execute_result"
    },
    {
     "data": {
      "image/png": "[encoded data removed]",
      "text/plain": [
       "<Figure size 720x720 with 3 Axes>"
      ]
     },
     "metadata": {
      "needs_background": "light"
     },
     "output_type": "display_data"
    }
   ],
   "source": [
    "dataframeImagesize = pd.DataFrame(imagesize,columns={\"X\",\"Y\"})\n",
    "\n",
    "grid = sns.JointGrid(data=dataframeImagesize,x=\"X\",y=\"Y\",height=10)\n",
    "grid.plot_joint(plt.scatter, color=\"g\")\n",
    "plt.plot([3500, 0], [3500, 0], linewidth=1)\n",
    "plt.xlabel(\"Image width\")\n",
    "plt.ylabel(\"Image height\")"
   ]
  },
  {
   "cell_type": "code",
   "execution_count": null,
   "id": "b587e2d6-7d35-44de-9a57-f8b04d21e1a1",
   "metadata": {},
   "outputs": [],
   "source": []
  }
 ],
 "metadata": {
  "kernelspec": {
   "display_name": "Python 3 (ipykernel)",
   "language": "python",
   "name": "python3"
  },
  "language_info": {
   "codemirror_mode": {
    "name": "ipython",
    "version": 3
   },
   "file_extension": ".py",
   "mimetype": "text/x-python",
   "name": "python",
   "nbconvert_exporter": "python",
   "pygments_lexer": "ipython3",
   "version": "3.7.13"
  }
 },
 "nbformat": 4,
 "nbformat_minor": 5
}
