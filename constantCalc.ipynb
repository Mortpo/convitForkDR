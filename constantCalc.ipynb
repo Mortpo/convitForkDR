{
 "cells": [
  {
   "cell_type": "code",
   "execution_count": 1,
   "id": "89c6ae67-ffb3-4c51-9b50-b5ebbfc1aa81",
   "metadata": {
    "execution": {
     "iopub.execute_input": "2022-09-07T04:41:48.724748Z",
     "iopub.status.busy": "2022-09-07T04:41:48.724430Z",
     "iopub.status.idle": "2022-09-07T04:41:51.154268Z",
     "shell.execute_reply": "2022-09-07T04:41:51.153591Z",
     "shell.execute_reply.started": "2022-09-07T04:41:48.724690Z"
    }
   },
   "outputs": [],
   "source": [
    "from KaggleLoader import KaggleDataLoader\n",
    "from torchvision.transforms import Resize,ToTensor\n",
    "import torch\n",
    "\n",
    "dataset = KaggleDataLoader(\"/datasets/eyepacs/\"+\"trainLabels.csv\",\"/datasets/eyepacs/train\",transform=Resize((200,200)))"
   ]
  },
  {
   "cell_type": "code",
   "execution_count": null,
   "id": "67fb947a-0703-46e2-8636-a4fbc513928c",
   "metadata": {
    "execution": {
     "iopub.execute_input": "2022-09-07T04:41:51.155598Z",
     "iopub.status.busy": "2022-09-07T04:41:51.155369Z"
    }
   },
   "outputs": [
    {
     "data": {
      "application/vnd.jupyter.widget-view+json": {
       "model_id": "776ba10fd95e45b6adaaba928219fc0f",
       "version_major": 2,
       "version_minor": 0
      },
      "text/plain": [
       "  0%|          | 0/35126 [00:00<?, ?it/s]"
      ]
     },
     "metadata": {},
     "output_type": "display_data"
    }
   ],
   "source": [
    "\n",
    "from  torchvision import datasets\n",
    "from tqdm.notebook import  tqdm\n",
    "convert_tensor = ToTensor()\n",
    "imgs = [convert_tensor(item[0]) for item in tqdm(dataset)] # item[0] and item[1] are image and its label\n",
    "\n",
    "\n",
    "\n"
   ]
  },
  {
   "cell_type": "code",
   "execution_count": null,
   "id": "0afad1e6-bb0c-49b5-9c69-33dda61b1ad3",
   "metadata": {},
   "outputs": [],
   "source": [
    "imgs = torch.stack(imgs, dim=0).numpy()"
   ]
  },
  {
   "cell_type": "code",
   "execution_count": 1,
   "id": "89d01d4f-9423-401e-b3d5-75c39834b0c3",
   "metadata": {
    "execution": {
     "iopub.execute_input": "2022-09-07T03:48:49.309876Z",
     "iopub.status.busy": "2022-09-07T03:48:49.309247Z",
     "iopub.status.idle": "2022-09-07T03:48:49.659986Z",
     "shell.execute_reply": "2022-09-07T03:48:49.658914Z",
     "shell.execute_reply.started": "2022-09-07T03:48:49.309813Z"
    }
   },
   "outputs": [
    {
     "ename": "NameError",
     "evalue": "name 'imgs' is not defined",
     "output_type": "error",
     "traceback": [
      "\u001b[0;31m---------------------------------------------------------------------------\u001b[0m",
      "\u001b[0;31mNameError\u001b[0m                                 Traceback (most recent call last)",
      "Input \u001b[0;32mIn [1]\u001b[0m, in \u001b[0;36m<cell line: 2>\u001b[0;34m()\u001b[0m\n\u001b[1;32m      1\u001b[0m \u001b[38;5;66;03m# calculate mean over each channel (r,g,b)\u001b[39;00m\n\u001b[0;32m----> 2\u001b[0m mean_r \u001b[38;5;241m=\u001b[39m \u001b[43mimgs\u001b[49m[:,\u001b[38;5;241m0\u001b[39m,:,:]\u001b[38;5;241m.\u001b[39mmean()\n\u001b[1;32m      3\u001b[0m mean_g \u001b[38;5;241m=\u001b[39m imgs[:,\u001b[38;5;241m1\u001b[39m,:,:]\u001b[38;5;241m.\u001b[39mmean()\n\u001b[1;32m      4\u001b[0m mean_b \u001b[38;5;241m=\u001b[39m imgs[:,\u001b[38;5;241m2\u001b[39m,:,:]\u001b[38;5;241m.\u001b[39mmean()\n",
      "\u001b[0;31mNameError\u001b[0m: name 'imgs' is not defined"
     ]
    }
   ],
   "source": [
    "# calculate mean over each channel (r,g,b)\n",
    "mean_r = imgs[:,0,:,:].mean()\n",
    "mean_g = imgs[:,1,:,:].mean()\n",
    "mean_b = imgs[:,2,:,:].mean()\n",
    "print(mean_r,mean_g,mean_b)\n",
    "\n"
   ]
  },
  {
   "cell_type": "code",
   "execution_count": null,
   "id": "3fe8d79c-879b-4421-8430-57ba4cc5fca9",
   "metadata": {},
   "outputs": [],
   "source": [
    "# calculate std over each channel (r,g,b)\n",
    "std_r = imgs[:,0,:,:].std()\n",
    "std_g = imgs[:,1,:,:].std()\n",
    "std_b = imgs[:,2,:,:].std()\n",
    "print(std_r,std_g,std_b)"
   ]
  }
 ],
 "metadata": {
  "kernelspec": {
   "display_name": "Python 3 (ipykernel)",
   "language": "python",
   "name": "python3"
  },
  "language_info": {
   "codemirror_mode": {
    "name": "ipython",
    "version": 3
   },
   "file_extension": ".py",
   "mimetype": "text/x-python",
   "name": "python",
   "nbconvert_exporter": "python",
   "pygments_lexer": "ipython3",
   "version": "3.9.13"
  }
 },
 "nbformat": 4,
 "nbformat_minor": 5
}
